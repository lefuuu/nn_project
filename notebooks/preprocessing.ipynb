{
  "nbformat": 4,
  "nbformat_minor": 0,
  "metadata": {
    "colab": {
      "provenance": [],
      "gpuType": "T4"
    },
    "kernelspec": {
      "name": "python3",
      "display_name": "Python 3"
    },
    "language_info": {
      "name": "python"
    },
    "accelerator": "GPU"
  },
  "cells": [
    {
      "cell_type": "code",
      "execution_count": null,
      "metadata": {
        "id": "-1AQf_-Zgn3S"
      },
      "outputs": [],
      "source": [
        "# !pip -qq install torchutils"
      ]
    },
    {
      "cell_type": "code",
      "source": [
        "# !unzip /content/EuroSAT1.zip -d EuroSAT"
      ],
      "metadata": {
        "id": "9_fuHYPEjEoE"
      },
      "execution_count": null,
      "outputs": []
    },
    {
      "cell_type": "code",
      "source": [
        "import os\n",
        "import shutil\n",
        "import pandas as pd\n",
        "\n",
        "project_dir = \"project\"  # Папка, где будут train/ и valid/\n",
        "source_dir = \"/content/EuroSAT\"  # Где сейчас лежат изображения\n",
        "csv_files = {\n",
        "    \"train\": \"/content/EuroSAT/train.csv\",\n",
        "    \"valid\": \"/content/EuroSAT/validation.csv\",\n",
        "    \"test\": \"/content/EuroSAT/test.csv\"\n",
        "}\n",
        "\n",
        "for split in [\"train\", \"valid\", \"test\"]:\n",
        "    df = pd.read_csv(csv_files[split])  # Читаем CSV\n",
        "    split_dir = os.path.join(project_dir, split)  # train/ или valid/\n",
        "\n",
        "    for _, row in df.iterrows():\n",
        "        filename = row[\"Filename\"]\n",
        "        classname = row[\"ClassName\"]\n",
        "\n",
        "        # Создаём папку для класса, если её нет\n",
        "        class_dir = os.path.join(split_dir, classname)\n",
        "        os.makedirs(class_dir, exist_ok=True)\n",
        "\n",
        "        # Полные пути\n",
        "        src_path = os.path.join(source_dir, filename)\n",
        "        dst_path = os.path.join(class_dir, os.path.basename(filename))\n",
        "\n",
        "        # Копируем файл\n",
        "        if os.path.exists(src_path):\n",
        "            shutil.copy(src_path, dst_path)\n",
        "        else:\n",
        "            print(f\"Файл не найден: {src_path}\")\n",
        "\n",
        "print(\"Копирование завершено!\")\n"
      ],
      "metadata": {
        "colab": {
          "base_uri": "https://localhost:8080/"
        },
        "id": "J7MpjIa2jntU",
        "outputId": "1ba18556-73ae-429c-b110-e8bb2958bc99"
      },
      "execution_count": null,
      "outputs": [
        {
          "output_type": "stream",
          "name": "stdout",
          "text": [
            "Копирование завершено!\n"
          ]
        }
      ]
    },
    {
      "cell_type": "code",
      "source": [
        "import torch\n",
        "import torchvision\n",
        "import torch.nn as nn\n",
        "from torch.utils.data import DataLoader\n",
        "from torchvision import datasets\n",
        "from torchvision import transforms\n",
        "from torchvision import io\n",
        "import torchutils as tu\n",
        "import json\n",
        "import numpy as np\n",
        "import matplotlib.pyplot as plt\n",
        "import os\n",
        "\n",
        "import time\n",
        "import copy\n",
        "import random\n",
        "\n",
        "from torchvision.models import resnet18, ResNet18_Weights\n",
        "from torchvision.models import resnet50, ResNet50_Weights\n",
        "\n",
        "import pickle"
      ],
      "metadata": {
        "id": "V2BdRo_bk2We"
      },
      "execution_count": null,
      "outputs": []
    },
    {
      "cell_type": "code",
      "source": [
        "device = 'cuda' if torch.cuda.is_available() else 'cpu'\n",
        "print(device)"
      ],
      "metadata": {
        "colab": {
          "base_uri": "https://localhost:8080/"
        },
        "id": "D7qHN4pXkjaW",
        "outputId": "55c06260-bd24-4242-d127-75223bab24bd"
      },
      "execution_count": null,
      "outputs": [
        {
          "output_type": "stream",
          "name": "stdout",
          "text": [
            "cuda\n"
          ]
        }
      ]
    },
    {
      "cell_type": "code",
      "source": [
        "# делаем словарь, чтобы по индексу найти название класса\n",
        "labels = json.load(open('/content/EuroSAT/label_map.json'))\n",
        "# функция декодировки\n",
        "# Создаем словарь, где ключи - индексы (в виде строк), а значения - названия классов\n",
        "index_to_label = {str(v): k for k, v in labels.items()}\n",
        "\n",
        "# Функция декодировки (ищет название класса по индексу)\n",
        "decode = lambda x: index_to_label[str(x)]"
      ],
      "metadata": {
        "id": "3HyYRLpQlAMW"
      },
      "execution_count": null,
      "outputs": []
    },
    {
      "cell_type": "code",
      "source": [
        "decode(0)"
      ],
      "metadata": {
        "colab": {
          "base_uri": "https://localhost:8080/",
          "height": 36
        },
        "id": "ganSj4ZalOck",
        "outputId": "3f793be9-3b73-45a3-c24d-35d7dfc64c57"
      },
      "execution_count": null,
      "outputs": [
        {
          "output_type": "execute_result",
          "data": {
            "text/plain": [
              "'AnnualCrop'"
            ],
            "application/vnd.google.colaboratory.intrinsic+json": {
              "type": "string"
            }
          },
          "metadata": {},
          "execution_count": 12
        }
      ]
    },
    {
      "cell_type": "code",
      "source": [
        "random.seed(42)\n",
        "torch.manual_seed(42)\n",
        "torch.cuda.manual_seed(42)"
      ],
      "metadata": {
        "id": "uS6UfyFDoZG4"
      },
      "execution_count": null,
      "outputs": []
    },
    {
      "cell_type": "code",
      "source": [
        "train_transforms = transforms.Compose([\n",
        "    transforms.Resize((64,)),\n",
        "    transforms.CenterCrop((64, 64)),\n",
        "    transforms.ToTensor()\n",
        "])\n",
        "\n",
        "val_transforms = transforms.Compose([\n",
        "    transforms.Resize((64,)),\n",
        "    transforms.CenterCrop((64, 64)),\n",
        "    transforms.ToTensor()\n",
        "])"
      ],
      "metadata": {
        "id": "OiA8OzsQp07X"
      },
      "execution_count": null,
      "outputs": []
    },
    {
      "cell_type": "code",
      "source": [
        "# подготовим функцию resize для картинок\n",
        "resize = transforms.Resize((64, 64))"
      ],
      "metadata": {
        "id": "7n_16cn0roMA"
      },
      "execution_count": null,
      "outputs": []
    },
    {
      "cell_type": "code",
      "source": [
        "img = resize(io.read_image('/content/project/test/Forest/Forest_1023.jpg')/255)"
      ],
      "metadata": {
        "id": "NO5fTBY_rtIR"
      },
      "execution_count": null,
      "outputs": []
    },
    {
      "cell_type": "code",
      "source": [
        "img.shape"
      ],
      "metadata": {
        "colab": {
          "base_uri": "https://localhost:8080/"
        },
        "id": "4mUch8Uhr1HW",
        "outputId": "2eaaf8ab-b014-44c5-b7d1-ef9a6523ae4d"
      },
      "execution_count": null,
      "outputs": [
        {
          "output_type": "execute_result",
          "data": {
            "text/plain": [
              "torch.Size([3, 64, 64])"
            ]
          },
          "metadata": {},
          "execution_count": 17
        }
      ]
    },
    {
      "cell_type": "code",
      "source": [
        "plt.imshow(torch.permute(img, (1, 2, 0)));"
      ],
      "metadata": {
        "colab": {
          "base_uri": "https://localhost:8080/",
          "height": 432
        },
        "id": "JQBoBK9Vr3AE",
        "outputId": "dc056533-f884-4e26-9afb-b483cb03031a"
      },
      "execution_count": null,
      "outputs": [
        {
          "output_type": "display_data",
          "data": {
            "text/plain": [
              "<Figure size 640x480 with 1 Axes>"
            ],
            "image/png": "[encoded data removed]"
          },
          "metadata": {}
        }
      ]
    },
    {
      "cell_type": "code",
      "source": [
        "train_dataset = torchvision.datasets.ImageFolder('/content/project/train', train_transforms)\n",
        "valid_dataset = torchvision.datasets.ImageFolder('/content/project/valid', val_transforms)"
      ],
      "metadata": {
        "id": "8_FHxbb6q4Nr"
      },
      "execution_count": null,
      "outputs": []
    },
    {
      "cell_type": "code",
      "source": [
        "train_dataset.class_to_idx"
      ],
      "metadata": {
        "colab": {
          "base_uri": "https://localhost:8080/"
        },
        "id": "U0TKtVmSso0x",
        "outputId": "d8fcb122-5e6c-4739-b4c3-aa467ec55737"
      },
      "execution_count": null,
      "outputs": [
        {
          "output_type": "execute_result",
          "data": {
            "text/plain": [
              "{'AnnualCrop': 0,\n",
              " 'Forest': 1,\n",
              " 'HerbaceousVegetation': 2,\n",
              " 'Highway': 3,\n",
              " 'Industrial': 4,\n",
              " 'Pasture': 5,\n",
              " 'PermanentCrop': 6,\n",
              " 'Residential': 7,\n",
              " 'River': 8,\n",
              " 'SeaLake': 9}"
            ]
          },
          "metadata": {},
          "execution_count": 20
        }
      ]
    },
    {
      "cell_type": "code",
      "source": [
        "train_loader = DataLoader(train_dataset, batch_size=128, shuffle=True)\n",
        "valid_loader = DataLoader(valid_dataset, batch_size=128, shuffle=True)"
      ],
      "metadata": {
        "id": "mrrdZbSOyOrk"
      },
      "execution_count": null,
      "outputs": []
    },
    {
      "cell_type": "code",
      "source": [
        "test_batch = next(iter(valid_loader))\n",
        "single_batch = test_batch[0][0]\n",
        "single_batch.shape"
      ],
      "metadata": {
        "colab": {
          "base_uri": "https://localhost:8080/"
        },
        "id": "ZX44AcOIv7pl",
        "outputId": "bc227c57-edb9-4750-fee6-2506e7dc80a9"
      },
      "execution_count": null,
      "outputs": [
        {
          "output_type": "execute_result",
          "data": {
            "text/plain": [
              "torch.Size([3, 64, 64])"
            ]
          },
          "metadata": {},
          "execution_count": 22
        }
      ]
    },
    {
      "cell_type": "code",
      "source": [
        "# # Конечно, это можно сделать и с помощью оформления класса\n",
        "class MyResNet(nn.Module):\n",
        "    def __init__(self):\n",
        "        super().__init__()\n",
        "\n",
        "        # подгружаем модель\n",
        "        self.model = resnet50(weights=ResNet50_Weights.DEFAULT)\n",
        "        # заменяем слой\n",
        "        self.model.fc = nn.LazyLinear(10)\n",
        "\n",
        "        # замораживаем слои\n",
        "        for i in self.model.parameters():\n",
        "            i.requires_grad = False\n",
        "\n",
        "        # размораживаем только последний, который будем обучать\n",
        "        self.model.fc.weight.requires_grad = True\n",
        "        self.model.fc.bias.requires_grad = True\n",
        "\n",
        "    def forward(self, x):\n",
        "        return self.model(x)"
      ],
      "metadata": {
        "id": "fqa9TNW150he"
      },
      "execution_count": null,
      "outputs": []
    },
    {
      "cell_type": "code",
      "source": [
        "model = MyResNet()"
      ],
      "metadata": {
        "colab": {
          "base_uri": "https://localhost:8080/"
        },
        "id": "FHqxIvU3_upI",
        "outputId": "935f56f2-47fb-4058-b27d-606f17dc2b16"
      },
      "execution_count": null,
      "outputs": [
        {
          "output_type": "stream",
          "name": "stderr",
          "text": [
            "Downloading: \"https://download.pytorch.org/models/resnet50-11ad3fa6.pth\" to /root/.cache/torch/hub/checkpoints/resnet50-11ad3fa6.pth\n",
            "100%|██████████| 97.8M/97.8M [00:00<00:00, 148MB/s]\n"
          ]
        }
      ]
    },
    {
      "cell_type": "code",
      "source": [
        "model = model.to(device)\n",
        "optimizer = torch.optim.Adam(model.parameters(), amsgrad=True, lr=0.001)\n",
        "criterion = torch.nn.CrossEntropyLoss()"
      ],
      "metadata": {
        "id": "00fDqMG46E4k"
      },
      "execution_count": null,
      "outputs": []
    },
    {
      "cell_type": "code",
      "source": [
        "def fit(model, n_epochs):\n",
        "  train_losses = []\n",
        "  valid_losses = []\n",
        "  train_acc = []\n",
        "  valid_acc = []\n",
        "  for epoch in range(n_epochs):\n",
        "    model.train()\n",
        "    train_loss_itter = []\n",
        "    train_metric_itter = []\n",
        "\n",
        "    for images, labels in train_loader:\n",
        "      images = images.to(device)\n",
        "      labels = labels.to(device)\n",
        "\n",
        "      predict = model(images)\n",
        "      loss = criterion(predict, labels)\n",
        "\n",
        "      optimizer.zero_grad()\n",
        "      loss.backward()\n",
        "      optimizer.step()\n",
        "\n",
        "      train_loss_itter.append(loss.item())\n",
        "      train_metric_itter.append((predict.argmax(axis=1) == labels).cpu().numpy().mean())\n",
        "\n",
        "\n",
        "    train_losses.append(np.mean(train_loss_itter))\n",
        "    train_acc.append(np.mean(train_metric_itter))\n",
        "\n",
        "    model.eval()\n",
        "    valid_loss_itter = []\n",
        "    valid_metric_itter = []\n",
        "    with torch.no_grad():\n",
        "      for images, labels in valid_loader:\n",
        "        images = images.to(device)\n",
        "        labels = labels.to(device)\n",
        "        predict = model(images)\n",
        "        loss = criterion(predict, labels)\n",
        "\n",
        "        valid_loss_itter.append(loss.item())\n",
        "        valid_metric_itter.append((predict.cpu().argmax(axis=1) == labels.cpu()).numpy().mean())\n",
        "\n",
        "    valid_losses.append(np.mean(valid_loss_itter))\n",
        "    valid_acc.append(np.mean(valid_metric_itter))\n",
        "    print(\n",
        "    f'Epoch {epoch+1}/{n_epochs}: '\n",
        "    f'train_loss = {train_losses[-1]:.4f}, train_metric = {train_acc[-1]:.4f} | '\n",
        "    f'valid_loss = {valid_losses[-1]:.4f}, valid_metric = {valid_acc[-1]:.4f}'\n",
        ")\n",
        "\n",
        "\n",
        "  return train_losses, valid_losses, train_acc, valid_acc"
      ],
      "metadata": {
        "id": "q_KrCkzQxnUo"
      },
      "execution_count": null,
      "outputs": []
    },
    {
      "cell_type": "code",
      "source": [
        "train_losses, valid_losses, train_acc, valid_acc = fit(model, 8)"
      ],
      "metadata": {
        "colab": {
          "base_uri": "https://localhost:8080/"
        },
        "id": "kCm1RFC0x56E",
        "outputId": "358c70c8-2051-41ab-9fb2-a720cff3d800"
      },
      "execution_count": null,
      "outputs": [
        {
          "output_type": "stream",
          "name": "stdout",
          "text": [
            "Epoch 1/8: train_loss = 0.9975, train_metric = 0.7417 | valid_loss = 0.5997, valid_metric = 0.8425\n",
            "Epoch 2/8: train_loss = 0.5371, train_metric = 0.8541 | valid_loss = 0.4937, valid_metric = 0.8659\n",
            "Epoch 3/8: train_loss = 0.4444, train_metric = 0.8735 | valid_loss = 0.4397, valid_metric = 0.8699\n",
            "Epoch 4/8: train_loss = 0.3883, train_metric = 0.8842 | valid_loss = 0.4046, valid_metric = 0.8772\n",
            "Epoch 5/8: train_loss = 0.3611, train_metric = 0.8906 | valid_loss = 0.4073, valid_metric = 0.8801\n",
            "Epoch 6/8: train_loss = 0.3335, train_metric = 0.9017 | valid_loss = 0.3931, valid_metric = 0.8759\n",
            "Epoch 7/8: train_loss = 0.3080, train_metric = 0.9061 | valid_loss = 0.3866, valid_metric = 0.8772\n",
            "Epoch 8/8: train_loss = 0.2950, train_metric = 0.9102 | valid_loss = 0.3808, valid_metric = 0.8732\n"
          ]
        }
      ]
    },
    {
      "cell_type": "code",
      "source": [
        "resize = transforms.Resize((64, 64))"
      ],
      "metadata": {
        "id": "oljY4y6ZIl1K"
      },
      "execution_count": null,
      "outputs": []
    },
    {
      "cell_type": "code",
      "source": [
        "# '/content/project/test/River/River_10.jpg'\n",
        "# /content/project/test/PermanentCrop/PermanentCrop_1006.jpg\n",
        "# /content/project/test/Pasture/Pasture_1095.jpg\n",
        "# /content/project/test/PermanentCrop/PermanentCrop_1168.jpg\n",
        "# /content/project/test/Forest/Forest_1469.jpg\n",
        "# /content/project/test/PermanentCrop/PermanentCrop_117.jpg <="
      ],
      "metadata": {
        "id": "4xwITZeeKj7d"
      },
      "execution_count": null,
      "outputs": []
    },
    {
      "cell_type": "code",
      "source": [
        "img = resize(io.read_image('/content/project/test/PermanentCrop/PermanentCrop_117.jpg')/255)"
      ],
      "metadata": {
        "id": "gPpBCaLJIQSG"
      },
      "execution_count": null,
      "outputs": []
    },
    {
      "cell_type": "code",
      "source": [
        "class_names = ['AnnualCrop', 'Forest', 'HerbaceousVegetation', 'Highway', 'Industrial', 'Pasture', 'PermanentCrop', 'Residential', 'River', 'SeaLake']"
      ],
      "metadata": {
        "id": "OSNkEDzkI2D-"
      },
      "execution_count": null,
      "outputs": []
    },
    {
      "cell_type": "code",
      "source": [
        "# model.to(DEVICE)\n",
        "plt.imshow(torch.permute(img, (1, 2, 0)))\n",
        "plt.axis('off')\n",
        "with torch.inference_mode():\n",
        "    plt.title(class_names[model(img.to(device).unsqueeze(0)).argmax().item()]);"
      ],
      "metadata": {
        "colab": {
          "base_uri": "https://localhost:8080/",
          "height": 428
        },
        "id": "jTDoo1xQI1a7",
        "outputId": "a9f93b0f-5afc-41c3-c142-7143a733f983"
      },
      "execution_count": null,
      "outputs": [
        {
          "output_type": "display_data",
          "data": {
            "text/plain": [
              "<Figure size 640x480 with 1 Axes>"
            ],
            "image/png": "[encoded data removed]"
          },
          "metadata": {}
        }
      ]
    },
    {
      "cell_type": "code",
      "source": [
        "# Зададим функцию для отрисовки графиков\n",
        "\n",
        "def plot_loss_metrics(tl: list, vl: list, tm: list, vm: list):\n",
        "    _, ax = plt.subplots(1, 2, figsize=(14, 5))\n",
        "    ax[0].plot(tl, label='Train loss')\n",
        "    ax[0].plot(vl, label='Valid Loss')\n",
        "    ax[0].legend()\n",
        "    ax[0].set_title('Loss')\n",
        "    ax[0].set_ylim((0, max(tl+vl)+.1))\n",
        "\n",
        "    ax[1].plot(tm, label='Train accuracy')\n",
        "    ax[1].plot(vm, label='Valid accuracy')\n",
        "    ax[1].legend()\n",
        "    ax[1].set_title('Accuracy')\n",
        "    ax[1].set_ylim((0, max(tm+vm)+.1))"
      ],
      "metadata": {
        "id": "nFChaQD2qLcC"
      },
      "execution_count": null,
      "outputs": []
    },
    {
      "cell_type": "code",
      "source": [
        "plot_loss_metrics(train_losses, valid_losses, train_acc, valid_acc)"
      ],
      "metadata": {
        "colab": {
          "base_uri": "https://localhost:8080/",
          "height": 468
        },
        "id": "P37EM0ZMqpTh",
        "outputId": "3b68320b-1fdc-4b4d-e8aa-113029eebd4a"
      },
      "execution_count": null,
      "outputs": [
        {
          "output_type": "display_data",
          "data": {
            "text/plain": [
              "<Figure size 1400x500 with 2 Axes>"
            ],
            "image/png": "[encoded data removed]"
          },
          "metadata": {}
        }
      ]
    },
    {
      "cell_type": "code",
      "source": [
        "# Сохраняем модель в файл model.pkl\n",
        "# with open('model_resnet50_1.pkl', 'wb') as file:\n",
        "#     pickle.dump(model, file)"
      ],
      "metadata": {
        "id": "EC578mRy4Vld"
      },
      "execution_count": null,
      "outputs": []
    },
    {
      "cell_type": "code",
      "source": [
        "# torch.save(model.state_dict(), 'weights_model_resnet50_1.pt')"
      ],
      "metadata": {
        "id": "776pg_Ei5GRE"
      },
      "execution_count": null,
      "outputs": []
    }
  ]
}